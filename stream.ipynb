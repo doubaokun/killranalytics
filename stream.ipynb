{
 "metadata": {
  "name": "",
  "signature": "sha256:55f9da976fc9cbfc79230c3c70cc816c44eb107b2d4258bf160bd0efe3f4aada"
 },
 "nbformat": 3,
 "nbformat_minor": 0,
 "worksheets": [
  {
   "cells": [
    {
     "cell_type": "code",
     "collapsed": false,
     "input": [
      "data = sc.textFile(\"/Users/jhaddad/dev/killranalytics/kafka.txt\")\n",
      "import json\n",
      "\n",
      "parsed = data.flatMap(lambda x: x.split(\"\\n\") ).map(json.loads)"
     ],
     "language": "python",
     "metadata": {},
     "outputs": [],
     "prompt_number": 34
    },
    {
     "cell_type": "code",
     "collapsed": false,
     "input": [
      "print sample.collect()"
     ],
     "language": "python",
     "metadata": {},
     "outputs": [
      {
       "output_type": "stream",
       "stream": "stdout",
       "text": [
        "[u'{\"site_id\": \"02559c4f-ec20-4579-b2ca-72922a90d0df\", \"page\": \"/whatever.js\"}', u'{\"site_id\": \"02559c4f-ec20-4579-b2ca-72922a90d0df\", \"page\": \"/index.html\"}', u'{\"site_id\": \"02559c4f-ec20-4579-b2ca-72922a90d0df\", \"page\": \"/index.html\"}', u'{\"site_id\": \"02559c4f-ec20-4579-b2ca-72922a90d0df\", \"page\": \"/index.html\"}', u'{\"site_id\": \"02559c4f-ec20-4579-b2ca-72922a90d0df\", \"page\": \"/index.html\"}', u'{\"site_id\": \"02559c4f-ec20-4579-b2ca-72922a90d0df\", \"page\": \"/archive.php\"}', u'{\"site_id\": \"02559c4f-ec20-4579-b2ca-72922a90d0df\", \"page\": \"/something.css\"}', u'{\"site_id\": \"12559c4f-ec20-4579-b2ca-72922a90d0df\", \"page\": \"/archive.php\"}', u'{\"site_id\": \"22559c4f-ec20-4579-b2ca-72922a90d0df\", \"page\": \"/archive.php\"}']\n"
       ]
      }
     ],
     "prompt_number": 35
    },
    {
     "cell_type": "code",
     "collapsed": false,
     "input": [
      "#summed = parsed.map(lambda event: (event['site_id'], 1)).\\\n",
      "#                reduceByKey(lambda x,y: x + y).\\\n",
      "#                map(lambda x: {\"site_id\": x[0], \"ts\": str(uuid1()), \"pageviews\": x[1]})\n",
      "        \n",
      "# aggregate by site and page?\n",
      "parsed.map(lambda event: ((event['site_id'], event['page']), 1) ).reduceByKey(lambda x,y: x + y)"
     ],
     "language": "python",
     "metadata": {},
     "outputs": [
      {
       "metadata": {},
       "output_type": "pyout",
       "prompt_number": 38,
       "text": [
        "[((u'02559c4f-ec20-4579-b2ca-72922a90d0df', u'/index.html'), 4),\n",
        " ((u'22559c4f-ec20-4579-b2ca-72922a90d0df', u'/archive.php'), 1),\n",
        " ((u'02559c4f-ec20-4579-b2ca-72922a90d0df', u'/archive.php'), 1),\n",
        " ((u'02559c4f-ec20-4579-b2ca-72922a90d0df', u'/something.css'), 1),\n",
        " ((u'12559c4f-ec20-4579-b2ca-72922a90d0df', u'/archive.php'), 1),\n",
        " ((u'02559c4f-ec20-4579-b2ca-72922a90d0df', u'/whatever.js'), 1)]"
       ]
      }
     ],
     "prompt_number": 38
    },
    {
     "cell_type": "code",
     "collapsed": false,
     "input": [],
     "language": "python",
     "metadata": {},
     "outputs": [],
     "prompt_number": 22
    },
    {
     "cell_type": "code",
     "collapsed": false,
     "input": [],
     "language": "python",
     "metadata": {},
     "outputs": []
    }
   ],
   "metadata": {}
  }
 ]
}